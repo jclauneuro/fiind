{
 "cells": [
  {
   "cell_type": "markdown",
   "metadata": {},
   "source": [
    "# Working with the FIIND Data on MicroDraw"
   ]
  },
  {
   "cell_type": "markdown",
   "metadata": {},
   "source": [
    "Katja Heuer, Roberto Toro, 2019"
   ]
  },
  {
   "cell_type": "markdown",
   "metadata": {},
   "source": [
    "This notebook will show you how to query the MicroDraw API, find the histological data included in the <i>FIIND</i> project and the available annotations, and download your vectorial annotations for each slice to a `.json` file."
   ]
  },
  {
   "cell_type": "markdown",
   "metadata": {},
   "source": [
    "## 1. The project on MicroDraw"
   ]
  },
  {
   "cell_type": "markdown",
   "metadata": {},
   "source": [
    "**Project URL:** [http://microdraw.pasteur.fr/project/FIIND](http://microdraw.pasteur.fr/project/FIIND)"
   ]
  },
  {
   "cell_type": "markdown",
   "metadata": {},
   "source": [
    "### Data\n",
    "\n",
    "* **Histological slices:** \n",
    "    * Currently, the <i>FIIND</i> project includes 20 histological datasets across 5 different time points of ferret development: P0, P4, P8, P16, and P32; and 2 different stainings: Nissl and NeuN.  \n",
    "* **Volume annotations:**\n",
    "    * a first volume annotation of the cerebrum has been created and is the first layer of segmentation loaded on project display\n",
    "* **Text annotations:**\n",
    "    * no text annotation layer has been created and populated, yet"
   ]
  },
  {
   "cell_type": "markdown",
   "metadata": {},
   "source": [
    "### Adding more data fields"
   ]
  },
  {
   "cell_type": "markdown",
   "metadata": {},
   "source": [
    "If you would like to add more annotations, please go to the `project settings` (clicking on the `cog` icon upper right will bring you there [http://microdraw.pasteur.fr/project/FIIND/settings](http://microdraw.pasteur.fr/project/FIIND/settings), and you can add more annotations by clicking on the `plus` icon, and then select the `annotation type`."
   ]
  },
  {
   "cell_type": "markdown",
   "metadata": {},
   "source": [
    "### Adding more Histological datasets"
   ]
  },
  {
   "cell_type": "markdown",
   "metadata": {},
   "source": [
    "If you would like to add more histological datasets to the project, you need to first convert the data to deep zoom format, and host it on any server (server, Google-Drive, Dropbox etc.). Detailed information will be added soon. On MicroDraw, you can then click on the `plus` icon on the very bottom of the page to add more links with their respective species name to the file list."
   ]
  },
  {
   "cell_type": "markdown",
   "metadata": {},
   "source": [
    "## 2. Imports"
   ]
  },
  {
   "cell_type": "code",
   "execution_count": 18,
   "metadata": {},
   "outputs": [],
   "source": [
    "import urllib.request as urlreq\n",
    "from urllib.request import urlopen\n",
    "import re\n",
    "import os\n",
    "\n",
    "import json\n"
   ]
  },
  {
   "cell_type": "markdown",
   "metadata": {},
   "source": [
    "## 3. Define paths & set project structure"
   ]
  },
  {
   "cell_type": "markdown",
   "metadata": {},
   "source": [
    "### 3.1. Local: Where to save data to?"
   ]
  },
  {
   "cell_type": "code",
   "execution_count": 50,
   "metadata": {},
   "outputs": [],
   "source": [
    "# where to store the masks you want to download from BrainBox\n",
    "RAWSEG_DIR = '../data/raw/seg/FIIND/'"
   ]
  },
  {
   "cell_type": "code",
   "execution_count": 51,
   "metadata": {},
   "outputs": [],
   "source": [
    "if not os.path.exists(RAWSEG_DIR):\n",
    "    os.makedirs(RAWSEG_DIR)"
   ]
  },
  {
   "cell_type": "markdown",
   "metadata": {},
   "source": [
    "### 3.2. Online: Where to upload the data to? and which segmentations shall be uploaded or downloaded?"
   ]
  },
  {
   "cell_type": "markdown",
   "metadata": {},
   "source": [
    "#### 3.2.1. Get token for MicroDraw\n",
    "Get token for MicroDraw to access the project\n",
    "\n"
   ]
  },
  {
   "cell_type": "markdown",
   "metadata": {},
   "source": [
    "If the project is a closed project, you need to get a `token` to download and upload data.  \n",
    "Log into MicroDraw, and go to [http://microdraw.pasteur.fr/token](http://microdraw.pasteur.fr/token)"
   ]
  },
  {
   "cell_type": "code",
   "execution_count": 52,
   "metadata": {},
   "outputs": [],
   "source": [
    "# token valid for 24h\n",
    "token = \"jl07ntgycuqhtd23qr8ju\""
   ]
  },
  {
   "cell_type": "markdown",
   "metadata": {},
   "source": [
    "#### 3.2.2. Find API for the FIIND project on MicroDraw\n",
    "\n",
    "**You can find all the structure via the MicroDraw API:**  \n",
    "here for the entire project:  \n",
    "http://microdraw.pasteur.fr/project/json/FIIND/  \n",
    "and here for one single MRI dataset:  \n",
    "http://microdraw.pasteur.fr/project/FIIND?source=http://microdraw.pasteur.fr/F110_P8/F110_P8.json&project=FIIND&slice=36"
   ]
  },
  {
   "cell_type": "markdown",
   "metadata": {},
   "source": [
    "### 3.3. Set project structure"
   ]
  },
  {
   "cell_type": "code",
   "execution_count": 53,
   "metadata": {},
   "outputs": [
    {
     "name": "stdout",
     "output_type": "stream",
     "text": [
      "7\n"
     ]
    }
   ],
   "source": [
    "# Set project structure\n",
    "# prj - The structure containing all the project data\n",
    "#prj_url = \"http://microdraw.pasteur.fr/project/json/FIIND/?token=\"+token\n",
    "prj_url = \"http://microdraw.pasteur.fr/project/json/FIIND/\"\n",
    "\n",
    "res = urlreq.urlopen( prj_url )\n",
    "txt = res.read()\n",
    "prj = json.loads( txt )\n",
    "nfiles = len( prj['files']['list'] )\n",
    "\n",
    "N = nfiles\n",
    "\n",
    "print(N) #7"
   ]
  },
  {
   "cell_type": "code",
   "execution_count": 54,
   "metadata": {},
   "outputs": [],
   "source": [
    "# You can check the files if you like with the following line of code\n",
    "#print ( prj['files']['list'] )"
   ]
  },
  {
   "cell_type": "markdown",
   "metadata": {},
   "source": [
    "## 4. Downloading segmentations"
   ]
  },
  {
   "cell_type": "markdown",
   "metadata": {},
   "source": [
    "#### Option 1: Select one specific slice of one specific species for which you would like to download the segmentations"
   ]
  },
  {
   "cell_type": "code",
   "execution_count": 59,
   "metadata": {},
   "outputs": [
    {
     "name": "stdout",
     "output_type": "stream",
     "text": [
      "!curl -o ../data/raw/seg/FIIND/F110_P8/F110_P8_slice36.json http://microdraw.pasteur.fr/api?source=http://microdraw.pasteur.fr/F110_P8/F110_P8.json&project=FIIND&slice=36\n",
      "  % Total    % Received % Xferd  Average Speed   Time    Time     Time  Current\n",
      "                                 Dload  Upload   Total   Spent    Left  Speed\n",
      "100  5603  100  5603    0     0   163k      0 --:--:-- --:--:-- --:--:--  165k\n"
     ]
    }
   ],
   "source": [
    "# select your specimen – as you see it in the URL field in your browser\n",
    "specimenID = \"F110_P8\"\n",
    "\n",
    "# set the project this dataset is part of\n",
    "project = \"FIIND\"\n",
    "\n",
    "#select the slice you would like to download\n",
    "slice = 36\n",
    "\n",
    "# create output folder\n",
    "sub_dir = RAWSEG_DIR + specimenID\n",
    "if not os.path.exists(sub_dir):\n",
    "    os.makedirs(sub_dir)\n",
    "\n",
    "!echo !curl -o {sub_dir}/{specimenID}_slice{slice}.json \"http://microdraw.pasteur.fr/api?source=http://microdraw.pasteur.fr/\"$specimenID\"/\"$specimenID\".json&project=\"$project\"&slice=\"$slice\n",
    "!curl -o {sub_dir}/{specimenID}_slice{slice}.json \"http://microdraw.pasteur.fr/api?source=http://microdraw.pasteur.fr/\"$specimenID\"/\"$specimenID\".json&project=\"$project\"&slice=\"$slice\n"
   ]
  },
  {
   "cell_type": "markdown",
   "metadata": {},
   "source": [
    "#### Option 2: Download the segmentations of all / a range of slices of one specific specimen  – implementation using bash"
   ]
  },
  {
   "cell_type": "code",
   "execution_count": 60,
   "metadata": {},
   "outputs": [
    {
     "name": "stdout",
     "output_type": "stream",
     "text": [
      "!curl -o ../data/raw/seg/FIIND/F110_P8/F110_P8_slice0.json http://microdraw.pasteur.fr/api?source=http://microdraw.pasteur.fr/F110_P8/F110_P8.json&project=FIIND&slice=0\n",
      "  % Total    % Received % Xferd  Average Speed   Time    Time     Time  Current\n",
      "                                 Dload  Upload   Total   Spent    Left  Speed\n",
      "100     2  100     2    0     0     70      0 --:--:-- --:--:-- --:--:--    71\n",
      "!curl -o ../data/raw/seg/FIIND/F110_P8/F110_P8_slice1.json http://microdraw.pasteur.fr/api?source=http://microdraw.pasteur.fr/F110_P8/F110_P8.json&project=FIIND&slice=1\n",
      "  % Total    % Received % Xferd  Average Speed   Time    Time     Time  Current\n",
      "                                 Dload  Upload   Total   Spent    Left  Speed\n",
      "100     2  100     2    0     0     29      0 --:--:-- --:--:-- --:--:--    29\n",
      "!curl -o ../data/raw/seg/FIIND/F110_P8/F110_P8_slice2.json http://microdraw.pasteur.fr/api?source=http://microdraw.pasteur.fr/F110_P8/F110_P8.json&project=FIIND&slice=2\n",
      "  % Total    % Received % Xferd  Average Speed   Time    Time     Time  Current\n",
      "                                 Dload  Upload   Total   Spent    Left  Speed\n",
      "100     2  100     2    0     0     73      0 --:--:-- --:--:-- --:--:--    74\n",
      "!curl -o ../data/raw/seg/FIIND/F110_P8/F110_P8_slice3.json http://microdraw.pasteur.fr/api?source=http://microdraw.pasteur.fr/F110_P8/F110_P8.json&project=FIIND&slice=3\n",
      "  % Total    % Received % Xferd  Average Speed   Time    Time     Time  Current\n",
      "                                 Dload  Upload   Total   Spent    Left  Speed\n",
      "100     2  100     2    0     0     31      0 --:--:-- --:--:-- --:--:--    31\n",
      "!curl -o ../data/raw/seg/FIIND/F110_P8/F110_P8_slice4.json http://microdraw.pasteur.fr/api?source=http://microdraw.pasteur.fr/F110_P8/F110_P8.json&project=FIIND&slice=4\n",
      "  % Total    % Received % Xferd  Average Speed   Time    Time     Time  Current\n",
      "                                 Dload  Upload   Total   Spent    Left  Speed\n",
      "100     2  100     2    0     0     73      0 --:--:-- --:--:-- --:--:--    74\n",
      "!curl -o ../data/raw/seg/FIIND/F110_P8/F110_P8_slice5.json http://microdraw.pasteur.fr/api?source=http://microdraw.pasteur.fr/F110_P8/F110_P8.json&project=FIIND&slice=5\n",
      "  % Total    % Received % Xferd  Average Speed   Time    Time     Time  Current\n",
      "                                 Dload  Upload   Total   Spent    Left  Speed\n",
      "100     2  100     2    0     0     64      0 --:--:-- --:--:-- --:--:--    66\n",
      "!curl -o ../data/raw/seg/FIIND/F110_P8/F110_P8_slice6.json http://microdraw.pasteur.fr/api?source=http://microdraw.pasteur.fr/F110_P8/F110_P8.json&project=FIIND&slice=6\n",
      "  % Total    % Received % Xferd  Average Speed   Time    Time     Time  Current\n",
      "                                 Dload  Upload   Total   Spent    Left  Speed\n",
      "100     2  100     2    0     0     91      0 --:--:-- --:--:-- --:--:--    95\n",
      "!curl -o ../data/raw/seg/FIIND/F110_P8/F110_P8_slice7.json http://microdraw.pasteur.fr/api?source=http://microdraw.pasteur.fr/F110_P8/F110_P8.json&project=FIIND&slice=7\n",
      "  % Total    % Received % Xferd  Average Speed   Time    Time     Time  Current\n",
      "                                 Dload  Upload   Total   Spent    Left  Speed\n",
      "100     2  100     2    0     0     82      0 --:--:-- --:--:-- --:--:--    83\n",
      "!curl -o ../data/raw/seg/FIIND/F110_P8/F110_P8_slice8.json http://microdraw.pasteur.fr/api?source=http://microdraw.pasteur.fr/F110_P8/F110_P8.json&project=FIIND&slice=8\n",
      "  % Total    % Received % Xferd  Average Speed   Time    Time     Time  Current\n",
      "                                 Dload  Upload   Total   Spent    Left  Speed\n",
      "100     2  100     2    0     0     66      0 --:--:-- --:--:-- --:--:--    66\n",
      "!curl -o ../data/raw/seg/FIIND/F110_P8/F110_P8_slice9.json http://microdraw.pasteur.fr/api?source=http://microdraw.pasteur.fr/F110_P8/F110_P8.json&project=FIIND&slice=9\n",
      "  % Total    % Received % Xferd  Average Speed   Time    Time     Time  Current\n",
      "                                 Dload  Upload   Total   Spent    Left  Speed\n",
      "100     2  100     2    0     0     83      0 --:--:-- --:--:-- --:--:--    86\n",
      "!curl -o ../data/raw/seg/FIIND/F110_P8/F110_P8_slice10.json http://microdraw.pasteur.fr/api?source=http://microdraw.pasteur.fr/F110_P8/F110_P8.json&project=FIIND&slice=10\n",
      "  % Total    % Received % Xferd  Average Speed   Time    Time     Time  Current\n",
      "                                 Dload  Upload   Total   Spent    Left  Speed\n",
      "100     2  100     2    0     0     83      0 --:--:-- --:--:-- --:--:--    86\n",
      "!curl -o ../data/raw/seg/FIIND/F110_P8/F110_P8_slice11.json http://microdraw.pasteur.fr/api?source=http://microdraw.pasteur.fr/F110_P8/F110_P8.json&project=FIIND&slice=11\n",
      "  % Total    % Received % Xferd  Average Speed   Time    Time     Time  Current\n",
      "                                 Dload  Upload   Total   Spent    Left  Speed\n",
      "100     2  100     2    0     0     65      0 --:--:-- --:--:-- --:--:--    66\n",
      "!curl -o ../data/raw/seg/FIIND/F110_P8/F110_P8_slice12.json http://microdraw.pasteur.fr/api?source=http://microdraw.pasteur.fr/F110_P8/F110_P8.json&project=FIIND&slice=12\n",
      "  % Total    % Received % Xferd  Average Speed   Time    Time     Time  Current\n",
      "                                 Dload  Upload   Total   Spent    Left  Speed\n",
      "100     2  100     2    0     0     74      0 --:--:-- --:--:-- --:--:--    76\n",
      "!curl -o ../data/raw/seg/FIIND/F110_P8/F110_P8_slice13.json http://microdraw.pasteur.fr/api?source=http://microdraw.pasteur.fr/F110_P8/F110_P8.json&project=FIIND&slice=13\n",
      "  % Total    % Received % Xferd  Average Speed   Time    Time     Time  Current\n",
      "                                 Dload  Upload   Total   Spent    Left  Speed\n",
      "100     2  100     2    0     0     81      0 --:--:-- --:--:-- --:--:--    83\n",
      "!curl -o ../data/raw/seg/FIIND/F110_P8/F110_P8_slice14.json http://microdraw.pasteur.fr/api?source=http://microdraw.pasteur.fr/F110_P8/F110_P8.json&project=FIIND&slice=14\n",
      "  % Total    % Received % Xferd  Average Speed   Time    Time     Time  Current\n",
      "                                 Dload  Upload   Total   Spent    Left  Speed\n",
      "100     2  100     2    0     0     69      0 --:--:-- --:--:-- --:--:--    71\n",
      "!curl -o ../data/raw/seg/FIIND/F110_P8/F110_P8_slice15.json http://microdraw.pasteur.fr/api?source=http://microdraw.pasteur.fr/F110_P8/F110_P8.json&project=FIIND&slice=15\n",
      "  % Total    % Received % Xferd  Average Speed   Time    Time     Time  Current\n",
      "                                 Dload  Upload   Total   Spent    Left  Speed\n",
      "100     2  100     2    0     0     85      0 --:--:-- --:--:-- --:--:--    86\n",
      "!curl -o ../data/raw/seg/FIIND/F110_P8/F110_P8_slice16.json http://microdraw.pasteur.fr/api?source=http://microdraw.pasteur.fr/F110_P8/F110_P8.json&project=FIIND&slice=16\n",
      "  % Total    % Received % Xferd  Average Speed   Time    Time     Time  Current\n",
      "                                 Dload  Upload   Total   Spent    Left  Speed\n",
      "100     2  100     2    0     0     74      0 --:--:-- --:--:-- --:--:--    76\n",
      "!curl -o ../data/raw/seg/FIIND/F110_P8/F110_P8_slice17.json http://microdraw.pasteur.fr/api?source=http://microdraw.pasteur.fr/F110_P8/F110_P8.json&project=FIIND&slice=17\n",
      "  % Total    % Received % Xferd  Average Speed   Time    Time     Time  Current\n",
      "                                 Dload  Upload   Total   Spent    Left  Speed\n",
      "100     2  100     2    0     0     69      0 --:--:-- --:--:-- --:--:--    71\n",
      "!curl -o ../data/raw/seg/FIIND/F110_P8/F110_P8_slice18.json http://microdraw.pasteur.fr/api?source=http://microdraw.pasteur.fr/F110_P8/F110_P8.json&project=FIIND&slice=18\n",
      "  % Total    % Received % Xferd  Average Speed   Time    Time     Time  Current\n",
      "                                 Dload  Upload   Total   Spent    Left  Speed\n",
      "100     2  100     2    0     0     71      0 --:--:-- --:--:-- --:--:--    74\n",
      "!curl -o ../data/raw/seg/FIIND/F110_P8/F110_P8_slice19.json http://microdraw.pasteur.fr/api?source=http://microdraw.pasteur.fr/F110_P8/F110_P8.json&project=FIIND&slice=19\n",
      "  % Total    % Received % Xferd  Average Speed   Time    Time     Time  Current\n",
      "                                 Dload  Upload   Total   Spent    Left  Speed\n",
      "100     2  100     2    0     0     77      0 --:--:-- --:--:-- --:--:--    80\n",
      "!curl -o ../data/raw/seg/FIIND/F110_P8/F110_P8_slice20.json http://microdraw.pasteur.fr/api?source=http://microdraw.pasteur.fr/F110_P8/F110_P8.json&project=FIIND&slice=20\n"
     ]
    },
    {
     "name": "stdout",
     "output_type": "stream",
     "text": [
      "  % Total    % Received % Xferd  Average Speed   Time    Time     Time  Current\n",
      "                                 Dload  Upload   Total   Spent    Left  Speed\n",
      "100     2  100     2    0     0     66      0 --:--:-- --:--:-- --:--:--    66\n",
      "!curl -o ../data/raw/seg/FIIND/F110_P8/F110_P8_slice21.json http://microdraw.pasteur.fr/api?source=http://microdraw.pasteur.fr/F110_P8/F110_P8.json&project=FIIND&slice=21\n",
      "  % Total    % Received % Xferd  Average Speed   Time    Time     Time  Current\n",
      "                                 Dload  Upload   Total   Spent    Left  Speed\n",
      "100     2  100     2    0     0     81      0 --:--:-- --:--:-- --:--:--    83\n",
      "!curl -o ../data/raw/seg/FIIND/F110_P8/F110_P8_slice22.json http://microdraw.pasteur.fr/api?source=http://microdraw.pasteur.fr/F110_P8/F110_P8.json&project=FIIND&slice=22\n",
      "  % Total    % Received % Xferd  Average Speed   Time    Time     Time  Current\n",
      "                                 Dload  Upload   Total   Spent    Left  Speed\n",
      "100     2  100     2    0     0     81      0 --:--:-- --:--:-- --:--:--    83\n",
      "!curl -o ../data/raw/seg/FIIND/F110_P8/F110_P8_slice23.json http://microdraw.pasteur.fr/api?source=http://microdraw.pasteur.fr/F110_P8/F110_P8.json&project=FIIND&slice=23\n",
      "  % Total    % Received % Xferd  Average Speed   Time    Time     Time  Current\n",
      "                                 Dload  Upload   Total   Spent    Left  Speed\n",
      "100     2  100     2    0     0     66      0 --:--:-- --:--:-- --:--:--    64\n",
      "!curl -o ../data/raw/seg/FIIND/F110_P8/F110_P8_slice24.json http://microdraw.pasteur.fr/api?source=http://microdraw.pasteur.fr/F110_P8/F110_P8.json&project=FIIND&slice=24\n",
      "  % Total    % Received % Xferd  Average Speed   Time    Time     Time  Current\n",
      "                                 Dload  Upload   Total   Spent    Left  Speed\n",
      "100     2  100     2    0     0     63      0 --:--:-- --:--:-- --:--:--    64\n",
      "!curl -o ../data/raw/seg/FIIND/F110_P8/F110_P8_slice25.json http://microdraw.pasteur.fr/api?source=http://microdraw.pasteur.fr/F110_P8/F110_P8.json&project=FIIND&slice=25\n",
      "  % Total    % Received % Xferd  Average Speed   Time    Time     Time  Current\n",
      "                                 Dload  Upload   Total   Spent    Left  Speed\n",
      "100     2  100     2    0     0     86      0 --:--:-- --:--:-- --:--:--    86\n",
      "!curl -o ../data/raw/seg/FIIND/F110_P8/F110_P8_slice26.json http://microdraw.pasteur.fr/api?source=http://microdraw.pasteur.fr/F110_P8/F110_P8.json&project=FIIND&slice=26\n",
      "  % Total    % Received % Xferd  Average Speed   Time    Time     Time  Current\n",
      "                                 Dload  Upload   Total   Spent    Left  Speed\n",
      "100     2  100     2    0     0     68      0 --:--:-- --:--:-- --:--:--    68\n",
      "!curl -o ../data/raw/seg/FIIND/F110_P8/F110_P8_slice27.json http://microdraw.pasteur.fr/api?source=http://microdraw.pasteur.fr/F110_P8/F110_P8.json&project=FIIND&slice=27\n",
      "  % Total    % Received % Xferd  Average Speed   Time    Time     Time  Current\n",
      "                                 Dload  Upload   Total   Spent    Left  Speed\n",
      "100     2  100     2    0     0     85      0 --:--:-- --:--:-- --:--:--    86\n",
      "!curl -o ../data/raw/seg/FIIND/F110_P8/F110_P8_slice28.json http://microdraw.pasteur.fr/api?source=http://microdraw.pasteur.fr/F110_P8/F110_P8.json&project=FIIND&slice=28\n",
      "  % Total    % Received % Xferd  Average Speed   Time    Time     Time  Current\n",
      "                                 Dload  Upload   Total   Spent    Left  Speed\n",
      "100     2  100     2    0     0     87      0 --:--:-- --:--:-- --:--:--    90\n",
      "!curl -o ../data/raw/seg/FIIND/F110_P8/F110_P8_slice29.json http://microdraw.pasteur.fr/api?source=http://microdraw.pasteur.fr/F110_P8/F110_P8.json&project=FIIND&slice=29\n",
      "  % Total    % Received % Xferd  Average Speed   Time    Time     Time  Current\n",
      "                                 Dload  Upload   Total   Spent    Left  Speed\n",
      "100     2  100     2    0     0     20      0 --:--:-- --:--:-- --:--:--    20\n",
      "!curl -o ../data/raw/seg/FIIND/F110_P8/F110_P8_slice30.json http://microdraw.pasteur.fr/api?source=http://microdraw.pasteur.fr/F110_P8/F110_P8.json&project=FIIND&slice=30\n",
      "  % Total    % Received % Xferd  Average Speed   Time    Time     Time  Current\n",
      "                                 Dload  Upload   Total   Spent    Left  Speed\n",
      "100     2  100     2    0     0     88      0 --:--:-- --:--:-- --:--:--    90\n",
      "!curl -o ../data/raw/seg/FIIND/F110_P8/F110_P8_slice31.json http://microdraw.pasteur.fr/api?source=http://microdraw.pasteur.fr/F110_P8/F110_P8.json&project=FIIND&slice=31\n",
      "  % Total    % Received % Xferd  Average Speed   Time    Time     Time  Current\n",
      "                                 Dload  Upload   Total   Spent    Left  Speed\n",
      "100     2  100     2    0     0     84      0 --:--:-- --:--:-- --:--:--    86\n",
      "!curl -o ../data/raw/seg/FIIND/F110_P8/F110_P8_slice32.json http://microdraw.pasteur.fr/api?source=http://microdraw.pasteur.fr/F110_P8/F110_P8.json&project=FIIND&slice=32\n",
      "  % Total    % Received % Xferd  Average Speed   Time    Time     Time  Current\n",
      "                                 Dload  Upload   Total   Spent    Left  Speed\n",
      "100     2  100     2    0     0     65      0 --:--:-- --:--:-- --:--:--    66\n",
      "!curl -o ../data/raw/seg/FIIND/F110_P8/F110_P8_slice33.json http://microdraw.pasteur.fr/api?source=http://microdraw.pasteur.fr/F110_P8/F110_P8.json&project=FIIND&slice=33\n",
      "  % Total    % Received % Xferd  Average Speed   Time    Time     Time  Current\n",
      "                                 Dload  Upload   Total   Spent    Left  Speed\n",
      "100  9435  100  9435    0     0   304k      0 --:--:-- --:--:-- --:--:--  307k\n",
      "!curl -o ../data/raw/seg/FIIND/F110_P8/F110_P8_slice34.json http://microdraw.pasteur.fr/api?source=http://microdraw.pasteur.fr/F110_P8/F110_P8.json&project=FIIND&slice=34\n",
      "  % Total    % Received % Xferd  Average Speed   Time    Time     Time  Current\n",
      "                                 Dload  Upload   Total   Spent    Left  Speed\n",
      "100  8724  100  8724    0     0   246k      0 --:--:-- --:--:-- --:--:--  250k\n",
      "!curl -o ../data/raw/seg/FIIND/F110_P8/F110_P8_slice35.json http://microdraw.pasteur.fr/api?source=http://microdraw.pasteur.fr/F110_P8/F110_P8.json&project=FIIND&slice=35\n",
      "  % Total    % Received % Xferd  Average Speed   Time    Time     Time  Current\n",
      "                                 Dload  Upload   Total   Spent    Left  Speed\n",
      "100  6151  100  6151    0     0   187k      0 --:--:-- --:--:-- --:--:--  187k\n",
      "!curl -o ../data/raw/seg/FIIND/F110_P8/F110_P8_slice36.json http://microdraw.pasteur.fr/api?source=http://microdraw.pasteur.fr/F110_P8/F110_P8.json&project=FIIND&slice=36\n",
      "  % Total    % Received % Xferd  Average Speed   Time    Time     Time  Current\n",
      "                                 Dload  Upload   Total   Spent    Left  Speed\n",
      "100  5603  100  5603    0     0   181k      0 --:--:-- --:--:-- --:--:--  182k\n",
      "!curl -o ../data/raw/seg/FIIND/F110_P8/F110_P8_slice37.json http://microdraw.pasteur.fr/api?source=http://microdraw.pasteur.fr/F110_P8/F110_P8.json&project=FIIND&slice=37\n",
      "  % Total    % Received % Xferd  Average Speed   Time    Time     Time  Current\n",
      "                                 Dload  Upload   Total   Spent    Left  Speed\n",
      "100  6083  100  6083    0     0  93624      0 --:--:-- --:--:-- --:--:-- 95046\n",
      "!curl -o ../data/raw/seg/FIIND/F110_P8/F110_P8_slice38.json http://microdraw.pasteur.fr/api?source=http://microdraw.pasteur.fr/F110_P8/F110_P8.json&project=FIIND&slice=38\n",
      "  % Total    % Received % Xferd  Average Speed   Time    Time     Time  Current\n",
      "                                 Dload  Upload   Total   Spent    Left  Speed\n",
      "100  2926  100  2926    0     0   120k      0 --:--:-- --:--:-- --:--:--  124k\n",
      "!curl -o ../data/raw/seg/FIIND/F110_P8/F110_P8_slice39.json http://microdraw.pasteur.fr/api?source=http://microdraw.pasteur.fr/F110_P8/F110_P8.json&project=FIIND&slice=39\n",
      "  % Total    % Received % Xferd  Average Speed   Time    Time     Time  Current\n",
      "                                 Dload  Upload   Total   Spent    Left  Speed\n",
      "100  1137  100  1137    0     0  37936      0 --:--:-- --:--:-- --:--:-- 39206\n",
      "!curl -o ../data/raw/seg/FIIND/F110_P8/F110_P8_slice40.json http://microdraw.pasteur.fr/api?source=http://microdraw.pasteur.fr/F110_P8/F110_P8.json&project=FIIND&slice=40\n",
      "  % Total    % Received % Xferd  Average Speed   Time    Time     Time  Current\n",
      "                                 Dload  Upload   Total   Spent    Left  Speed\n",
      "100     2  100     2    0     0     63      0 --:--:-- --:--:-- --:--:--    64\n"
     ]
    },
    {
     "name": "stdout",
     "output_type": "stream",
     "text": [
      "!curl -o ../data/raw/seg/FIIND/F110_P8/F110_P8_slice41.json http://microdraw.pasteur.fr/api?source=http://microdraw.pasteur.fr/F110_P8/F110_P8.json&project=FIIND&slice=41\n",
      "  % Total    % Received % Xferd  Average Speed   Time    Time     Time  Current\n",
      "                                 Dload  Upload   Total   Spent    Left  Speed\n",
      "100     2  100     2    0     0      1      0  0:00:02  0:00:01  0:00:01     1\n",
      "!curl -o ../data/raw/seg/FIIND/F110_P8/F110_P8_slice42.json http://microdraw.pasteur.fr/api?source=http://microdraw.pasteur.fr/F110_P8/F110_P8.json&project=FIIND&slice=42\n",
      "  % Total    % Received % Xferd  Average Speed   Time    Time     Time  Current\n",
      "                                 Dload  Upload   Total   Spent    Left  Speed\n",
      "100     2  100     2    0     0     90      0 --:--:-- --:--:-- --:--:--    95\n",
      "!curl -o ../data/raw/seg/FIIND/F110_P8/F110_P8_slice43.json http://microdraw.pasteur.fr/api?source=http://microdraw.pasteur.fr/F110_P8/F110_P8.json&project=FIIND&slice=43\n",
      "  % Total    % Received % Xferd  Average Speed   Time    Time     Time  Current\n",
      "                                 Dload  Upload   Total   Spent    Left  Speed\n",
      "100     2  100     2    0     0     92      0 --:--:-- --:--:-- --:--:--    95\n",
      "!curl -o ../data/raw/seg/FIIND/F110_P8/F110_P8_slice44.json http://microdraw.pasteur.fr/api?source=http://microdraw.pasteur.fr/F110_P8/F110_P8.json&project=FIIND&slice=44\n",
      "  % Total    % Received % Xferd  Average Speed   Time    Time     Time  Current\n",
      "                                 Dload  Upload   Total   Spent    Left  Speed\n",
      "100     2  100     2    0     0     83      0 --:--:-- --:--:-- --:--:--    83\n",
      "!curl -o ../data/raw/seg/FIIND/F110_P8/F110_P8_slice45.json http://microdraw.pasteur.fr/api?source=http://microdraw.pasteur.fr/F110_P8/F110_P8.json&project=FIIND&slice=45\n",
      "  % Total    % Received % Xferd  Average Speed   Time    Time     Time  Current\n",
      "                                 Dload  Upload   Total   Spent    Left  Speed\n",
      "100     2  100     2    0     0     79      0 --:--:-- --:--:-- --:--:--    83\n",
      "!curl -o ../data/raw/seg/FIIND/F110_P8/F110_P8_slice46.json http://microdraw.pasteur.fr/api?source=http://microdraw.pasteur.fr/F110_P8/F110_P8.json&project=FIIND&slice=46\n",
      "  % Total    % Received % Xferd  Average Speed   Time    Time     Time  Current\n",
      "                                 Dload  Upload   Total   Spent    Left  Speed\n",
      "100     2  100     2    0     0     79      0 --:--:-- --:--:-- --:--:--    80\n",
      "!curl -o ../data/raw/seg/FIIND/F110_P8/F110_P8_slice47.json http://microdraw.pasteur.fr/api?source=http://microdraw.pasteur.fr/F110_P8/F110_P8.json&project=FIIND&slice=47\n",
      "  % Total    % Received % Xferd  Average Speed   Time    Time     Time  Current\n",
      "                                 Dload  Upload   Total   Spent    Left  Speed\n",
      "100     2  100     2    0     0     83      0 --:--:-- --:--:-- --:--:--    86\n",
      "!curl -o ../data/raw/seg/FIIND/F110_P8/F110_P8_slice48.json http://microdraw.pasteur.fr/api?source=http://microdraw.pasteur.fr/F110_P8/F110_P8.json&project=FIIND&slice=48\n",
      "  % Total    % Received % Xferd  Average Speed   Time    Time     Time  Current\n",
      "                                 Dload  Upload   Total   Spent    Left  Speed\n",
      "100     2  100     2    0     0     96      0 --:--:-- --:--:-- --:--:--   100\n",
      "!curl -o ../data/raw/seg/FIIND/F110_P8/F110_P8_slice49.json http://microdraw.pasteur.fr/api?source=http://microdraw.pasteur.fr/F110_P8/F110_P8.json&project=FIIND&slice=49\n",
      "  % Total    % Received % Xferd  Average Speed   Time    Time     Time  Current\n",
      "                                 Dload  Upload   Total   Spent    Left  Speed\n",
      "100     2  100     2    0     0     98      0 --:--:-- --:--:-- --:--:--   100\n",
      "!curl -o ../data/raw/seg/FIIND/F110_P8/F110_P8_slice50.json http://microdraw.pasteur.fr/api?source=http://microdraw.pasteur.fr/F110_P8/F110_P8.json&project=FIIND&slice=50\n",
      "  % Total    % Received % Xferd  Average Speed   Time    Time     Time  Current\n",
      "                                 Dload  Upload   Total   Spent    Left  Speed\n",
      "100     2  100     2    0     0     73      0 --:--:-- --:--:-- --:--:--    74\n",
      "!curl -o ../data/raw/seg/FIIND/F110_P8/F110_P8_slice51.json http://microdraw.pasteur.fr/api?source=http://microdraw.pasteur.fr/F110_P8/F110_P8.json&project=FIIND&slice=51\n",
      "  % Total    % Received % Xferd  Average Speed   Time    Time     Time  Current\n",
      "                                 Dload  Upload   Total   Spent    Left  Speed\n",
      "100     2  100     2    0     0     74      0 --:--:-- --:--:-- --:--:--    76\n",
      "!curl -o ../data/raw/seg/FIIND/F110_P8/F110_P8_slice52.json http://microdraw.pasteur.fr/api?source=http://microdraw.pasteur.fr/F110_P8/F110_P8.json&project=FIIND&slice=52\n",
      "  % Total    % Received % Xferd  Average Speed   Time    Time     Time  Current\n",
      "                                 Dload  Upload   Total   Spent    Left  Speed\n",
      "100     2  100     2    0     0     66      0 --:--:-- --:--:-- --:--:--    66\n",
      "!curl -o ../data/raw/seg/FIIND/F110_P8/F110_P8_slice53.json http://microdraw.pasteur.fr/api?source=http://microdraw.pasteur.fr/F110_P8/F110_P8.json&project=FIIND&slice=53\n",
      "  % Total    % Received % Xferd  Average Speed   Time    Time     Time  Current\n",
      "                                 Dload  Upload   Total   Spent    Left  Speed\n",
      "100     2  100     2    0     0     83      0 --:--:-- --:--:-- --:--:--    86\n",
      "!curl -o ../data/raw/seg/FIIND/F110_P8/F110_P8_slice54.json http://microdraw.pasteur.fr/api?source=http://microdraw.pasteur.fr/F110_P8/F110_P8.json&project=FIIND&slice=54\n",
      "  % Total    % Received % Xferd  Average Speed   Time    Time     Time  Current\n",
      "                                 Dload  Upload   Total   Spent    Left  Speed\n",
      "100     2  100     2    0     0     66      0 --:--:-- --:--:-- --:--:--    66\n",
      "!curl -o ../data/raw/seg/FIIND/F110_P8/F110_P8_slice55.json http://microdraw.pasteur.fr/api?source=http://microdraw.pasteur.fr/F110_P8/F110_P8.json&project=FIIND&slice=55\n",
      "  % Total    % Received % Xferd  Average Speed   Time    Time     Time  Current\n",
      "                                 Dload  Upload   Total   Spent    Left  Speed\n",
      "100     2  100     2    0     0     73      0 --:--:-- --:--:-- --:--:--    74\n",
      "!curl -o ../data/raw/seg/FIIND/F110_P8/F110_P8_slice56.json http://microdraw.pasteur.fr/api?source=http://microdraw.pasteur.fr/F110_P8/F110_P8.json&project=FIIND&slice=56\n",
      "  % Total    % Received % Xferd  Average Speed   Time    Time     Time  Current\n",
      "                                 Dload  Upload   Total   Spent    Left  Speed\n",
      "100     2  100     2    0     0     67      0 --:--:-- --:--:-- --:--:--    68\n",
      "!curl -o ../data/raw/seg/FIIND/F110_P8/F110_P8_slice57.json http://microdraw.pasteur.fr/api?source=http://microdraw.pasteur.fr/F110_P8/F110_P8.json&project=FIIND&slice=57\n",
      "  % Total    % Received % Xferd  Average Speed   Time    Time     Time  Current\n",
      "                                 Dload  Upload   Total   Spent    Left  Speed\n",
      "100     2  100     2    0     0     79      0 --:--:-- --:--:-- --:--:--    80\n",
      "!curl -o ../data/raw/seg/FIIND/F110_P8/F110_P8_slice58.json http://microdraw.pasteur.fr/api?source=http://microdraw.pasteur.fr/F110_P8/F110_P8.json&project=FIIND&slice=58\n",
      "  % Total    % Received % Xferd  Average Speed   Time    Time     Time  Current\n",
      "                                 Dload  Upload   Total   Spent    Left  Speed\n",
      "100     2  100     2    0     0     73      0 --:--:-- --:--:-- --:--:--    74\n",
      "!curl -o ../data/raw/seg/FIIND/F110_P8/F110_P8_slice59.json http://microdraw.pasteur.fr/api?source=http://microdraw.pasteur.fr/F110_P8/F110_P8.json&project=FIIND&slice=59\n",
      "  % Total    % Received % Xferd  Average Speed   Time    Time     Time  Current\n",
      "                                 Dload  Upload   Total   Spent    Left  Speed\n",
      "100     2  100     2    0     0     85      0 --:--:-- --:--:-- --:--:--    86\n",
      "!curl -o ../data/raw/seg/FIIND/F110_P8/F110_P8_slice60.json http://microdraw.pasteur.fr/api?source=http://microdraw.pasteur.fr/F110_P8/F110_P8.json&project=FIIND&slice=60\n",
      "  % Total    % Received % Xferd  Average Speed   Time    Time     Time  Current\n",
      "                                 Dload  Upload   Total   Spent    Left  Speed\n",
      "100     2  100     2    0     0     82      0 --:--:-- --:--:-- --:--:--    83\n",
      "!curl -o ../data/raw/seg/FIIND/F110_P8/F110_P8_slice61.json http://microdraw.pasteur.fr/api?source=http://microdraw.pasteur.fr/F110_P8/F110_P8.json&project=FIIND&slice=61\n"
     ]
    },
    {
     "name": "stdout",
     "output_type": "stream",
     "text": [
      "  % Total    % Received % Xferd  Average Speed   Time    Time     Time  Current\n",
      "                                 Dload  Upload   Total   Spent    Left  Speed\n",
      "100     2  100     2    0     0     79      0 --:--:-- --:--:-- --:--:--    80\n",
      "!curl -o ../data/raw/seg/FIIND/F110_P8/F110_P8_slice62.json http://microdraw.pasteur.fr/api?source=http://microdraw.pasteur.fr/F110_P8/F110_P8.json&project=FIIND&slice=62\n",
      "  % Total    % Received % Xferd  Average Speed   Time    Time     Time  Current\n",
      "                                 Dload  Upload   Total   Spent    Left  Speed\n",
      "100     2  100     2    0     0     67      0 --:--:-- --:--:-- --:--:--    68\n",
      "!curl -o ../data/raw/seg/FIIND/F110_P8/F110_P8_slice63.json http://microdraw.pasteur.fr/api?source=http://microdraw.pasteur.fr/F110_P8/F110_P8.json&project=FIIND&slice=63\n",
      "  % Total    % Received % Xferd  Average Speed   Time    Time     Time  Current\n",
      "                                 Dload  Upload   Total   Spent    Left  Speed\n",
      "100     2  100     2    0     0     31      0 --:--:-- --:--:-- --:--:--    31\n",
      "!curl -o ../data/raw/seg/FIIND/F110_P8/F110_P8_slice64.json http://microdraw.pasteur.fr/api?source=http://microdraw.pasteur.fr/F110_P8/F110_P8.json&project=FIIND&slice=64\n",
      "  % Total    % Received % Xferd  Average Speed   Time    Time     Time  Current\n",
      "                                 Dload  Upload   Total   Spent    Left  Speed\n",
      "100     2  100     2    0     0     71      0 --:--:-- --:--:-- --:--:--    74\n",
      "!curl -o ../data/raw/seg/FIIND/F110_P8/F110_P8_slice65.json http://microdraw.pasteur.fr/api?source=http://microdraw.pasteur.fr/F110_P8/F110_P8.json&project=FIIND&slice=65\n",
      "  % Total    % Received % Xferd  Average Speed   Time    Time     Time  Current\n",
      "                                 Dload  Upload   Total   Spent    Left  Speed\n",
      "100     2  100     2    0     0     92      0 --:--:-- --:--:-- --:--:--    95\n",
      "!curl -o ../data/raw/seg/FIIND/F110_P8/F110_P8_slice66.json http://microdraw.pasteur.fr/api?source=http://microdraw.pasteur.fr/F110_P8/F110_P8.json&project=FIIND&slice=66\n",
      "  % Total    % Received % Xferd  Average Speed   Time    Time     Time  Current\n",
      "                                 Dload  Upload   Total   Spent    Left  Speed\n",
      "100     2  100     2    0     0     69      0 --:--:-- --:--:-- --:--:--    71\n",
      "!curl -o ../data/raw/seg/FIIND/F110_P8/F110_P8_slice67.json http://microdraw.pasteur.fr/api?source=http://microdraw.pasteur.fr/F110_P8/F110_P8.json&project=FIIND&slice=67\n",
      "  % Total    % Received % Xferd  Average Speed   Time    Time     Time  Current\n",
      "                                 Dload  Upload   Total   Spent    Left  Speed\n",
      "100     2  100     2    0     0     76      0 --:--:-- --:--:-- --:--:--    76\n",
      "!curl -o ../data/raw/seg/FIIND/F110_P8/F110_P8_slice68.json http://microdraw.pasteur.fr/api?source=http://microdraw.pasteur.fr/F110_P8/F110_P8.json&project=FIIND&slice=68\n",
      "  % Total    % Received % Xferd  Average Speed   Time    Time     Time  Current\n",
      "                                 Dload  Upload   Total   Spent    Left  Speed\n",
      "100     2  100     2    0     0     67      0 --:--:-- --:--:-- --:--:--    68\n",
      "!curl -o ../data/raw/seg/FIIND/F110_P8/F110_P8_slice69.json http://microdraw.pasteur.fr/api?source=http://microdraw.pasteur.fr/F110_P8/F110_P8.json&project=FIIND&slice=69\n",
      "  % Total    % Received % Xferd  Average Speed   Time    Time     Time  Current\n",
      "                                 Dload  Upload   Total   Spent    Left  Speed\n",
      "100     2  100     2    0     0     70      0 --:--:-- --:--:-- --:--:--    71\n",
      "!curl -o ../data/raw/seg/FIIND/F110_P8/F110_P8_slice70.json http://microdraw.pasteur.fr/api?source=http://microdraw.pasteur.fr/F110_P8/F110_P8.json&project=FIIND&slice=70\n",
      "  % Total    % Received % Xferd  Average Speed   Time    Time     Time  Current\n",
      "                                 Dload  Upload   Total   Spent    Left  Speed\n",
      "100     2  100     2    0     0     66      0 --:--:-- --:--:-- --:--:--    68\n",
      "!curl -o ../data/raw/seg/FIIND/F110_P8/F110_P8_slice71.json http://microdraw.pasteur.fr/api?source=http://microdraw.pasteur.fr/F110_P8/F110_P8.json&project=FIIND&slice=71\n",
      "  % Total    % Received % Xferd  Average Speed   Time    Time     Time  Current\n",
      "                                 Dload  Upload   Total   Spent    Left  Speed\n",
      "100     2  100     2    0     0      7      0 --:--:-- --:--:-- --:--:--     7\n"
     ]
    }
   ],
   "source": [
    "# select your specimen – as you see it in the URL field in your browser\n",
    "specimenID = \"F110_P8\"\n",
    "\n",
    "# define the total number of slices of that specimen – N+1 – visible in MicroDraw interface the very last slice plus 1\n",
    "nslices = 72\n",
    "\n",
    "# set the project this dataset is part of\n",
    "project = \"FIIND\"\n",
    "\n",
    "# create output folder\n",
    "sub_dir = RAWSEG_DIR + specimenID\n",
    "if not os.path.exists(sub_dir):\n",
    "    os.makedirs(sub_dir)\n",
    "\n",
    "# download segmentations from all slices\n",
    "for i in range(nslices):\n",
    "    !echo !curl -o {sub_dir}/{specimenID}_slice{i}.json \"http://microdraw.pasteur.fr/api?source=http://microdraw.pasteur.fr/\"$specimenID\"/\"$specimenID\".json&project=\"$project\"&slice=\"$i\n",
    "    !curl -o {sub_dir}/{specimenID}_slice{i}.json \"http://microdraw.pasteur.fr/api?source=http://microdraw.pasteur.fr/\"$specimenID\"/\"$specimenID\".json&project=\"$project\"&slice=\"$i\n"
   ]
  },
  {
   "cell_type": "code",
   "execution_count": 59,
   "metadata": {},
   "outputs": [],
   "source": [
    "!open ."
   ]
  },
  {
   "cell_type": "markdown",
   "metadata": {},
   "source": [
    "#### Option 2: Download the segmentations of all / a range of slices of one specific specimen  – implementation in python"
   ]
  },
  {
   "cell_type": "code",
   "execution_count": 61,
   "metadata": {},
   "outputs": [],
   "source": [
    "# select subject dataset, project, and slice range of interest\n",
    "sub = [\"F110_P8\"]\n",
    "project = \"FIIND\"\n",
    "slices = range(0,72)\n",
    "token = \"jl07ntgycuqhtd23qr8ju\""
   ]
  },
  {
   "cell_type": "code",
   "execution_count": 62,
   "metadata": {},
   "outputs": [],
   "source": [
    "for s in sub:\n",
    "    # create output folder\n",
    "    sub_dir = RAWSEG_DIR + s\n",
    "    if not os.path.exists(sub_dir):\n",
    "        os.makedirs(sub_dir)\n",
    "\n",
    "    for slice in slices:\n",
    "        url = \"http://microdraw.pasteur.fr/api?source=http://microdraw.pasteur.fr/\"+s+\"/\"+s+\".json&project=\"+project+\"&slice=\"+str(slice)+\"&token=\"+token\n",
    "        response = urlopen(url)\n",
    "        data = json.loads(response.read().decode())\n",
    "        with open(sub_dir+\"/\"+s+\"_slice\"+str(slice)+\".json\",\"w\") as fp:\n",
    "            json.dump(data,fp)"
   ]
  }
 ],
 "metadata": {
  "kernelspec": {
   "display_name": "Python 3",
   "language": "python",
   "name": "python3"
  },
  "language_info": {
   "codemirror_mode": {
    "name": "ipython",
    "version": 3
   },
   "file_extension": ".py",
   "mimetype": "text/x-python",
   "name": "python",
   "nbconvert_exporter": "python",
   "pygments_lexer": "ipython3",
   "version": "3.6.9"
  }
 },
 "nbformat": 4,
 "nbformat_minor": 2
}
