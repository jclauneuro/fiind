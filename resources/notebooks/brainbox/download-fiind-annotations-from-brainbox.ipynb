{
 "cells": [
  {
   "cell_type": "markdown",
   "metadata": {},
   "source": [
    "# Downloading segmentations from <i>FIIND</i> on BrainBox"
   ]
  },
  {
   "cell_type": "markdown",
   "metadata": {},
   "source": [
    "This script demonstrates how to obtain programmatically all segmentations available for FIIND MRI data in BrainBox.\n",
    "\n",
    "## 1. The project on BrainBox\n",
    "\n",
    "The project URL is https://brainbox.pasteur.fr/project/FIIND. The project contains 28 MRIs, 4 for each time point including P0 (day of birth), P2, P4, P8, P16, P32 and adult. These MRIs have a brain mask in the annotation layer `Atlas`. Finally, there are 2 text annotations: `MRI Quality` and `Comments`."
   ]
  },
  {
   "cell_type": "markdown",
   "metadata": {},
   "source": [
    "## 2. Imports"
   ]
  },
  {
   "cell_type": "code",
   "execution_count": 45,
   "metadata": {},
   "outputs": [],
   "source": [
    "import urllib.request as urlreq\n",
    "import re\n",
    "import os\n",
    "import json\n",
    "from tqdm import tqdm"
   ]
  },
  {
   "cell_type": "markdown",
   "metadata": {},
   "source": [
    "## 3. Configuration"
   ]
  },
  {
   "cell_type": "code",
   "execution_count": 46,
   "metadata": {},
   "outputs": [],
   "source": [
    "# Project name\n",
    "project = 'FIIND'\n",
    "\n",
    "# Names of the segmentations to download\n",
    "masknames = ['Atlas']\n",
    "\n",
    "# Local directory for saving the segmentations\n",
    "RAWSEG_DIR = './data-fiind-brainbox/'"
   ]
  },
  {
   "cell_type": "markdown",
   "metadata": {},
   "source": [
    "## 4. Get information"
   ]
  },
  {
   "cell_type": "code",
   "execution_count": 51,
   "metadata": {},
   "outputs": [
    {
     "name": "stdout",
     "output_type": "stream",
     "text": [
      "Segmentations for 28 files will be downloaded\n"
     ]
    }
   ],
   "source": [
    "# Create local download directory if it doesn't exist\n",
    "if not os.path.exists(RAWSEG_DIR):\n",
    "    os.makedirs(RAWSEG_DIR)\n",
    "\n",
    "# Project URL\n",
    "prj_url = \"https://brainbox.pasteur.fr/project/json/\" + project + \"/\"\n",
    "\n",
    "# Base MRI URL\n",
    "mri_url = \"https://brainbox.pasteur.fr/mri/json?url=\"\n",
    "\n",
    "# Download project description\n",
    "res = urlreq.urlopen( prj_url )\n",
    "txt = res.read()\n",
    "prj = json.loads( txt )\n",
    "\n",
    "# Get number of files\n",
    "nfiles = len( prj['files']['list'] )\n",
    "print(\"Segmentations for %s files will be downloaded\"%(nfiles))"
   ]
  },
  {
   "cell_type": "markdown",
   "metadata": {},
   "source": [
    "## 5. Download segmentations"
   ]
  },
  {
   "cell_type": "code",
   "execution_count": 48,
   "metadata": {},
   "outputs": [
    {
     "name": "stderr",
     "output_type": "stream",
     "text": [
      "100%|██████████| 28/28 [00:08<00:00,  3.38it/s]\n"
     ]
    }
   ],
   "source": [
    "# Iterate over all project files\n",
    "for isub in tqdm(range( 0, nfiles )):\n",
    "    \n",
    "    # Download MRI description\n",
    "    brainbox_url = mri_url + prj['files']['list'][isub]\n",
    "    res = urlreq.urlopen( brainbox_url )\n",
    "    txt = res.read()\n",
    "    mri = json.loads( txt )\n",
    "    subID = mri['name']\n",
    "\n",
    "    # Search for the mask names atlases within the annotations\n",
    "    natlases = len(mri['mri']['atlas'])\n",
    "    base = \"https://brainbox.pasteur.fr\"+mri['url']\n",
    "    index = -1\n",
    "    \n",
    "    # Iterate over all atlases\n",
    "    for i in range( 0, natlases ):\n",
    "        \n",
    "        # Iterate over all requested annotation layers\n",
    "        for j in masknames:\n",
    "            if (\n",
    "                'name' in mri['mri']['atlas'][i] and\n",
    "                mri['mri']['atlas'][i]['name'] == j and\n",
    "                mri['mri']['atlas'][i]['project'] == project\n",
    "            ):\n",
    "                index = i\n",
    "                filename = mri['mri']['atlas'][i]['filename']\n",
    "                \n",
    "                # Create a BIDS conforming filename\n",
    "                myname = \"sub-\" + subID + \"_mask-\" + j + \".nii.gz\"\n",
    "\n",
    "                # Create a BIDS conforming subject directory\n",
    "                dst = '{dir}/{sub}'.format( dir=RAWSEG_DIR, sub=subID)\n",
    "                if not os.path.exists( dst ):\n",
    "                    os.makedirs( dst )\n",
    "\n",
    "                # Download the atlas\n",
    "                atlas_url = base + filename\n",
    "                try:\n",
    "                    f = urlreq.urlopen( atlas_url )\n",
    "                    local_file = open( dst + \"/\" + myname, \"wb\" )\n",
    "                    local_file.write( f.read() )\n",
    "                    local_file.close()\n",
    "                except:\n",
    "                    continue\n",
    "    if index<0:\n",
    "        print(\"No atlas contained the requested masks\")"
   ]
  }
 ],
 "metadata": {
  "kernelspec": {
   "display_name": "Python 3",
   "language": "python",
   "name": "python3"
  },
  "language_info": {
   "codemirror_mode": {
    "name": "ipython",
    "version": 3
   },
   "file_extension": ".py",
   "mimetype": "text/x-python",
   "name": "python",
   "nbconvert_exporter": "python",
   "pygments_lexer": "ipython3",
   "version": "3.6.9"
  }
 },
 "nbformat": 4,
 "nbformat_minor": 2
}
